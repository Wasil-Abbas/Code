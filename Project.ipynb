{
  "nbformat": 4,
  "nbformat_minor": 0,
  "metadata": {
    "colab": {
      "provenance": [],
      "collapsed_sections": [],
      "authorship_tag": "ABX9TyMzN1IKpg9tgs4NH3f/TgeX",
      "include_colab_link": true
    },
    "kernelspec": {
      "name": "python3",
      "display_name": "Python 3"
    },
    "language_info": {
      "name": "python"
    }
  },
  "cells": [
    {
      "cell_type": "markdown",
      "metadata": {
        "id": "view-in-github",
        "colab_type": "text"
      },
      "source": [
        "<a href=\"https://colab.research.google.com/github/Wasil-Abbas/Code/blob/main/Project.ipynb\" target=\"_parent\"><img src=\"https://colab.research.google.com/assets/colab-badge.svg\" alt=\"Open In Colab\"/></a>"
      ]
    },
    {
      "cell_type": "code",
      "execution_count": 23,
      "metadata": {
        "colab": {
          "base_uri": "https://localhost:8080/",
          "height": 217
        },
        "id": "LqiKQE4ZH1hD",
        "outputId": "9ea84254-4300-4eff-d747-9379f6b87a0a"
      },
      "outputs": [
        {
          "output_type": "error",
          "ename": "NameError",
          "evalue": "ignored",
          "traceback": [
            "\u001b[0;31m---------------------------------------------------------------------------\u001b[0m",
            "\u001b[0;31mNameError\u001b[0m                                 Traceback (most recent call last)",
            "\u001b[0;32m<ipython-input-23-16dad289d2a3>\u001b[0m in \u001b[0;36m<module>\u001b[0;34m\u001b[0m\n\u001b[1;32m     83\u001b[0m                             \u001b[0;34m'N'\u001b[0m\u001b[0;34m:\u001b[0m \u001b[0;34m[\u001b[0m\u001b[0;34m(\u001b[0m\u001b[0;34m'M'\u001b[0m\u001b[0;34m,\u001b[0m\u001b[0;36m6\u001b[0m\u001b[0;34m)\u001b[0m\u001b[0;34m]\u001b[0m\u001b[0;34m,\u001b[0m\u001b[0;34m\u001b[0m\u001b[0;34m\u001b[0m\u001b[0m\n\u001b[1;32m     84\u001b[0m                                                    }\n\u001b[0;32m---> 85\u001b[0;31m \u001b[0mgraph1\u001b[0m\u001b[0;34m=\u001b[0m\u001b[0mGraph\u001b[0m\u001b[0;34m(\u001b[0m\u001b[0madjac_lis\u001b[0m\u001b[0;34m)\u001b[0m\u001b[0;34m\u001b[0m\u001b[0;34m\u001b[0m\u001b[0m\n\u001b[0m\u001b[1;32m     86\u001b[0m \u001b[0mgraph1\u001b[0m\u001b[0;34m.\u001b[0m\u001b[0ma_star_algorith\u001b[0m\u001b[0;34m(\u001b[0m\u001b[0;34m'A'\u001b[0m\u001b[0;34m,\u001b[0m\u001b[0;34m'M'\u001b[0m\u001b[0;34m)\u001b[0m\u001b[0;34m\u001b[0m\u001b[0;34m\u001b[0m\u001b[0m\n",
            "\u001b[0;31mNameError\u001b[0m: name 'adjac_lis' is not defined"
          ]
        }
      ],
      "source": [
        "from collections import deque\n",
        "\n",
        "class Graph:\n",
        "  def __init__(self,adjac_lis):\n",
        "    self.adjac_lis = adjac_lis\n",
        "\n",
        "    def get_neighbors(self, v):\n",
        "      return self.adjac_lis[v]\n",
        "\n",
        "      \n",
        "      def h(self, n):\n",
        "        H = {\n",
        "            'A': 1,\n",
        "             'B': 1,\n",
        "             'C': 1,\n",
        "             'D': 1,\n",
        "             'E':1,\n",
        "             'F': 1,\n",
        "             'G': 1,\n",
        "             'H': 1,\n",
        "             'I': 1,\n",
        "             'J': 1,\n",
        "             'K': 1,\n",
        "             'L': 1,\n",
        "             'M': 1,\n",
        "             'N': 1,\n",
        "        }\n",
        "        return H[n]\n",
        "        def a_star_algoritm(self, start, stop):\n",
        "          open_lst=set([start])\n",
        "          closed_lst=set([])\n",
        "          dist={}\n",
        "          dist[start] = 0\n",
        "          par={}\n",
        "          par[start]=start\n",
        "          while len(open_lst) > 0:\n",
        "            n = None\n",
        "          for v in open_lst:\n",
        "            if n==None or dist[v]+self.h(v)<dist[n]+self.h(n):\n",
        "              n=v\n",
        "              if n==None:\n",
        "                print('Path does not exist!')\n",
        "          return None\n",
        "          if n==stop:\n",
        "            reconst_path=[]\n",
        "            while par[n] != n:\n",
        "              reconst_path.append(n)\n",
        "              n=par[n]\n",
        "              reconst_path.append(start)\n",
        "              reconst_path.reverse()\n",
        "              print('Path found: {}'.format(reconst_path))\n",
        "              return reconst_path\n",
        "              for (m,weight) in self.get_neighnors(n):\n",
        "                if m not in open_lst and m not in closed_lst:\n",
        "                  open_lst.add(m)\n",
        "                  par[m]=n\n",
        "                  dist[m]=dist[n]+weight\n",
        "\n",
        "                  if dist[m]>dist[n]+weight:\n",
        "                      dist[m]=dist[n]+weight\n",
        "                      par[m]=n\n",
        "                      if m in closed_lst:\n",
        "                        closed_lst.remove(m)\n",
        "                        open_lst.add(m)\n",
        "                        open_lst.remove(n)\n",
        "                        closed_lst.add(n)\n",
        "                        print('Path does not exist!')\n",
        "                        return None\n",
        "                        adjac_lis={\n",
        "                            'A': [('B',11),('C',5)],\n",
        "                            'B': [('G',3),('E',10)],\n",
        "                            'C': [('D',11),('E',9),('F',8)],\n",
        "                            'D':['C',11],\n",
        "                            'E': [('H',4),('J',8)],\n",
        "                            'F': [('E',5)],\n",
        "                            'G':[('I',6)],\n",
        "                            'H': [('I',3),('L',7)],\n",
        "                            'I': [('L',4)],\n",
        "                            'J': [('K',4),('L',3),('M',11),('E',8)],\n",
        "                            'K': [('M',6)],\n",
        "                            'L': [('N',4)],\n",
        "                            'M': [('N',6)],                            \n",
        "                            'N': [('M',6)],\n",
        "                                                   }\n",
        "graph1=Graph(adjac_lis)\n",
        "graph1.a_star_algorith('A','M')"
      ]
    }
  ]
}